{
  "cells": [
    {
      "cell_type": "markdown",
      "metadata": {
        "id": "view-in-github",
        "colab_type": "text"
      },
      "source": [
        "<a href=\"https://colab.research.google.com/github/thislis/textdenoise/blob/main/%ED%83%90%EB%85%BC_%EC%BD%94%EB%93%9C.ipynb\" target=\"_parent\"><img src=\"https://colab.research.google.com/assets/colab-badge.svg\" alt=\"Open In Colab\"/></a>"
      ]
    },
    {
      "cell_type": "markdown",
      "metadata": {
        "id": "uoEgIOcFhccg"
      },
      "source": [
        "링크 : https://wikidocs.net/24996"
      ]
    },
    {
      "cell_type": "code",
      "execution_count": 1,
      "metadata": {
        "id": "IfN4gZMKh0yc"
      },
      "outputs": [],
      "source": [
        "import pandas as pd\n",
        "import shutil\n",
        "import os\n",
        "import tensorflow as tf\n",
        "from tensorflow.keras.preprocessing.sequence import pad_sequences\n",
        "from tensorflow.keras.utils import to_categorical"
      ]
    },
    {
      "cell_type": "code",
      "execution_count": 2,
      "metadata": {
        "colab": {
          "base_uri": "https://localhost:8080/"
        },
        "id": "n7DHF2L34txu",
        "outputId": "5fa025f7-b0f5-415e-827d-faa4b218b789"
      },
      "outputs": [
        {
          "output_type": "stream",
          "name": "stdout",
          "text": [
            "Drive already mounted at /content/drive; to attempt to forcibly remount, call drive.mount(\"/content/drive\", force_remount=True).\n"
          ]
        }
      ],
      "source": [
        "from google.colab import drive\n",
        "drive.mount('/content/drive')"
      ]
    },
    {
      "cell_type": "code",
      "execution_count": 3,
      "metadata": {
        "colab": {
          "base_uri": "https://localhost:8080/"
        },
        "id": "sdt-athJibxC",
        "outputId": "edea20de-0a2c-47cc-dcf2-158414a99093"
      },
      "outputs": [
        {
          "output_type": "stream",
          "name": "stdout",
          "text": [
            "           A      B\n",
            "0       가와가현   가가와현\n",
            "1       가대가소   가가대소\n",
            "2       가문가전   가가문전\n",
            "3      가붓자가식  가가붓자식\n",
            "4       가성가자   가가성자\n",
            "...      ...    ...\n",
            "81390   힘이받천   힘받이천\n",
            "81391   힘이받침   힘받이침\n",
            "81392   힘잇받감   힘받잇감\n",
            "81393   힝항뚱뚱   힝뚱항뚱\n",
            "81394   힝힝뚱뚱   힝뚱힝뚱\n",
            "\n",
            "[81395 rows x 2 columns]\n"
          ]
        }
      ],
      "source": [
        "lines = pd.read_csv('/content/drive/MyDrive/단어만 8만개.csv', names=['A', 'B'], sep=',')\n",
        "print(lines)"
      ]
    },
    {
      "cell_type": "code",
      "execution_count": 4,
      "metadata": {
        "colab": {
          "base_uri": "https://localhost:8080/",
          "height": 363
        },
        "id": "OJWHLXyricub",
        "outputId": "76f2b1b8-f01e-4ba7-a91a-a35096cb3b8a"
      },
      "outputs": [
        {
          "output_type": "execute_result",
          "data": {
            "text/plain": [
              "           A      B\n",
              "62024   잠리자채   잠자리채\n",
              "30390   바직회이   바회직이\n",
              "69845   첩산첩중   첩첩산중\n",
              "41754   설수산도   설산수도\n",
              "72790   큰파수련   큰수파련\n",
              "20954   등중비항   등비중항\n",
              "39134  산구나살무  산살구나무\n",
              "21576   떼양식식   떼식양식\n",
              "47941   아드름리   아름드리\n",
              "67908   집두거매   집거두매"
            ],
            "text/html": [
              "\n",
              "  <div id=\"df-503dd6cf-7ea1-40ca-8918-d9af0b4b5dba\">\n",
              "    <div class=\"colab-df-container\">\n",
              "      <div>\n",
              "<style scoped>\n",
              "    .dataframe tbody tr th:only-of-type {\n",
              "        vertical-align: middle;\n",
              "    }\n",
              "\n",
              "    .dataframe tbody tr th {\n",
              "        vertical-align: top;\n",
              "    }\n",
              "\n",
              "    .dataframe thead th {\n",
              "        text-align: right;\n",
              "    }\n",
              "</style>\n",
              "<table border=\"1\" class=\"dataframe\">\n",
              "  <thead>\n",
              "    <tr style=\"text-align: right;\">\n",
              "      <th></th>\n",
              "      <th>A</th>\n",
              "      <th>B</th>\n",
              "    </tr>\n",
              "  </thead>\n",
              "  <tbody>\n",
              "    <tr>\n",
              "      <th>62024</th>\n",
              "      <td>잠리자채</td>\n",
              "      <td>잠자리채</td>\n",
              "    </tr>\n",
              "    <tr>\n",
              "      <th>30390</th>\n",
              "      <td>바직회이</td>\n",
              "      <td>바회직이</td>\n",
              "    </tr>\n",
              "    <tr>\n",
              "      <th>69845</th>\n",
              "      <td>첩산첩중</td>\n",
              "      <td>첩첩산중</td>\n",
              "    </tr>\n",
              "    <tr>\n",
              "      <th>41754</th>\n",
              "      <td>설수산도</td>\n",
              "      <td>설산수도</td>\n",
              "    </tr>\n",
              "    <tr>\n",
              "      <th>72790</th>\n",
              "      <td>큰파수련</td>\n",
              "      <td>큰수파련</td>\n",
              "    </tr>\n",
              "    <tr>\n",
              "      <th>20954</th>\n",
              "      <td>등중비항</td>\n",
              "      <td>등비중항</td>\n",
              "    </tr>\n",
              "    <tr>\n",
              "      <th>39134</th>\n",
              "      <td>산구나살무</td>\n",
              "      <td>산살구나무</td>\n",
              "    </tr>\n",
              "    <tr>\n",
              "      <th>21576</th>\n",
              "      <td>떼양식식</td>\n",
              "      <td>떼식양식</td>\n",
              "    </tr>\n",
              "    <tr>\n",
              "      <th>47941</th>\n",
              "      <td>아드름리</td>\n",
              "      <td>아름드리</td>\n",
              "    </tr>\n",
              "    <tr>\n",
              "      <th>67908</th>\n",
              "      <td>집두거매</td>\n",
              "      <td>집거두매</td>\n",
              "    </tr>\n",
              "  </tbody>\n",
              "</table>\n",
              "</div>\n",
              "      <button class=\"colab-df-convert\" onclick=\"convertToInteractive('df-503dd6cf-7ea1-40ca-8918-d9af0b4b5dba')\"\n",
              "              title=\"Convert this dataframe to an interactive table.\"\n",
              "              style=\"display:none;\">\n",
              "        \n",
              "  <svg xmlns=\"http://www.w3.org/2000/svg\" height=\"24px\"viewBox=\"0 0 24 24\"\n",
              "       width=\"24px\">\n",
              "    <path d=\"M0 0h24v24H0V0z\" fill=\"none\"/>\n",
              "    <path d=\"M18.56 5.44l.94 2.06.94-2.06 2.06-.94-2.06-.94-.94-2.06-.94 2.06-2.06.94zm-11 1L8.5 8.5l.94-2.06 2.06-.94-2.06-.94L8.5 2.5l-.94 2.06-2.06.94zm10 10l.94 2.06.94-2.06 2.06-.94-2.06-.94-.94-2.06-.94 2.06-2.06.94z\"/><path d=\"M17.41 7.96l-1.37-1.37c-.4-.4-.92-.59-1.43-.59-.52 0-1.04.2-1.43.59L10.3 9.45l-7.72 7.72c-.78.78-.78 2.05 0 2.83L4 21.41c.39.39.9.59 1.41.59.51 0 1.02-.2 1.41-.59l7.78-7.78 2.81-2.81c.8-.78.8-2.07 0-2.86zM5.41 20L4 18.59l7.72-7.72 1.47 1.35L5.41 20z\"/>\n",
              "  </svg>\n",
              "      </button>\n",
              "      \n",
              "  <style>\n",
              "    .colab-df-container {\n",
              "      display:flex;\n",
              "      flex-wrap:wrap;\n",
              "      gap: 12px;\n",
              "    }\n",
              "\n",
              "    .colab-df-convert {\n",
              "      background-color: #E8F0FE;\n",
              "      border: none;\n",
              "      border-radius: 50%;\n",
              "      cursor: pointer;\n",
              "      display: none;\n",
              "      fill: #1967D2;\n",
              "      height: 32px;\n",
              "      padding: 0 0 0 0;\n",
              "      width: 32px;\n",
              "    }\n",
              "\n",
              "    .colab-df-convert:hover {\n",
              "      background-color: #E2EBFA;\n",
              "      box-shadow: 0px 1px 2px rgba(60, 64, 67, 0.3), 0px 1px 3px 1px rgba(60, 64, 67, 0.15);\n",
              "      fill: #174EA6;\n",
              "    }\n",
              "\n",
              "    [theme=dark] .colab-df-convert {\n",
              "      background-color: #3B4455;\n",
              "      fill: #D2E3FC;\n",
              "    }\n",
              "\n",
              "    [theme=dark] .colab-df-convert:hover {\n",
              "      background-color: #434B5C;\n",
              "      box-shadow: 0px 1px 3px 1px rgba(0, 0, 0, 0.15);\n",
              "      filter: drop-shadow(0px 1px 2px rgba(0, 0, 0, 0.3));\n",
              "      fill: #FFFFFF;\n",
              "    }\n",
              "  </style>\n",
              "\n",
              "      <script>\n",
              "        const buttonEl =\n",
              "          document.querySelector('#df-503dd6cf-7ea1-40ca-8918-d9af0b4b5dba button.colab-df-convert');\n",
              "        buttonEl.style.display =\n",
              "          google.colab.kernel.accessAllowed ? 'block' : 'none';\n",
              "\n",
              "        async function convertToInteractive(key) {\n",
              "          const element = document.querySelector('#df-503dd6cf-7ea1-40ca-8918-d9af0b4b5dba');\n",
              "          const dataTable =\n",
              "            await google.colab.kernel.invokeFunction('convertToInteractive',\n",
              "                                                     [key], {});\n",
              "          if (!dataTable) return;\n",
              "\n",
              "          const docLinkHtml = 'Like what you see? Visit the ' +\n",
              "            '<a target=\"_blank\" href=https://colab.research.google.com/notebooks/data_table.ipynb>data table notebook</a>'\n",
              "            + ' to learn more about interactive tables.';\n",
              "          element.innerHTML = '';\n",
              "          dataTable['output_type'] = 'display_data';\n",
              "          await google.colab.output.renderOutput(dataTable, element);\n",
              "          const docLink = document.createElement('div');\n",
              "          docLink.innerHTML = docLinkHtml;\n",
              "          element.appendChild(docLink);\n",
              "        }\n",
              "      </script>\n",
              "    </div>\n",
              "  </div>\n",
              "  "
            ]
          },
          "metadata": {},
          "execution_count": 4
        }
      ],
      "source": [
        "lines = lines.loc[:, 'A':'B']\n",
        "lines = lines[0:80000]\n",
        "lines.sample(10)"
      ]
    },
    {
      "cell_type": "code",
      "execution_count": 5,
      "metadata": {
        "colab": {
          "base_uri": "https://localhost:8080/",
          "height": 363
        },
        "id": "HC80PHpgidj6",
        "outputId": "1cc5df8e-29cc-460d-c179-dfa7709d3b4f"
      },
      "outputs": [
        {
          "output_type": "execute_result",
          "data": {
            "text/plain": [
              "           A            B\n",
              "5319    고드무레   \\t 고무드레 \\n\n",
              "797     가둘슴레   \\t 가슴둘레 \\n\n",
              "31747   배도밑료   \\t 배밑도료 \\n\n",
              "8774   권세수농령  \\t 권농수세령 \\n\n",
              "56353   우우위위   \\t 우위우위 \\n\n",
              "28994   미레그닌   \\t 미그레닌 \\n\n",
              "64259  제주의국론  \\t 제국주의론 \\n\n",
              "22992   로미터터   \\t 로터미터 \\n\n",
              "29380  민상도마어  \\t 민도마상어 \\n\n",
              "18256  데코마칼니  \\t 데칼코마니 \\n"
            ],
            "text/html": [
              "\n",
              "  <div id=\"df-3d79791a-760b-4aac-a1ec-40d27d2ced31\">\n",
              "    <div class=\"colab-df-container\">\n",
              "      <div>\n",
              "<style scoped>\n",
              "    .dataframe tbody tr th:only-of-type {\n",
              "        vertical-align: middle;\n",
              "    }\n",
              "\n",
              "    .dataframe tbody tr th {\n",
              "        vertical-align: top;\n",
              "    }\n",
              "\n",
              "    .dataframe thead th {\n",
              "        text-align: right;\n",
              "    }\n",
              "</style>\n",
              "<table border=\"1\" class=\"dataframe\">\n",
              "  <thead>\n",
              "    <tr style=\"text-align: right;\">\n",
              "      <th></th>\n",
              "      <th>A</th>\n",
              "      <th>B</th>\n",
              "    </tr>\n",
              "  </thead>\n",
              "  <tbody>\n",
              "    <tr>\n",
              "      <th>5319</th>\n",
              "      <td>고드무레</td>\n",
              "      <td>\\t 고무드레 \\n</td>\n",
              "    </tr>\n",
              "    <tr>\n",
              "      <th>797</th>\n",
              "      <td>가둘슴레</td>\n",
              "      <td>\\t 가슴둘레 \\n</td>\n",
              "    </tr>\n",
              "    <tr>\n",
              "      <th>31747</th>\n",
              "      <td>배도밑료</td>\n",
              "      <td>\\t 배밑도료 \\n</td>\n",
              "    </tr>\n",
              "    <tr>\n",
              "      <th>8774</th>\n",
              "      <td>권세수농령</td>\n",
              "      <td>\\t 권농수세령 \\n</td>\n",
              "    </tr>\n",
              "    <tr>\n",
              "      <th>56353</th>\n",
              "      <td>우우위위</td>\n",
              "      <td>\\t 우위우위 \\n</td>\n",
              "    </tr>\n",
              "    <tr>\n",
              "      <th>28994</th>\n",
              "      <td>미레그닌</td>\n",
              "      <td>\\t 미그레닌 \\n</td>\n",
              "    </tr>\n",
              "    <tr>\n",
              "      <th>64259</th>\n",
              "      <td>제주의국론</td>\n",
              "      <td>\\t 제국주의론 \\n</td>\n",
              "    </tr>\n",
              "    <tr>\n",
              "      <th>22992</th>\n",
              "      <td>로미터터</td>\n",
              "      <td>\\t 로터미터 \\n</td>\n",
              "    </tr>\n",
              "    <tr>\n",
              "      <th>29380</th>\n",
              "      <td>민상도마어</td>\n",
              "      <td>\\t 민도마상어 \\n</td>\n",
              "    </tr>\n",
              "    <tr>\n",
              "      <th>18256</th>\n",
              "      <td>데코마칼니</td>\n",
              "      <td>\\t 데칼코마니 \\n</td>\n",
              "    </tr>\n",
              "  </tbody>\n",
              "</table>\n",
              "</div>\n",
              "      <button class=\"colab-df-convert\" onclick=\"convertToInteractive('df-3d79791a-760b-4aac-a1ec-40d27d2ced31')\"\n",
              "              title=\"Convert this dataframe to an interactive table.\"\n",
              "              style=\"display:none;\">\n",
              "        \n",
              "  <svg xmlns=\"http://www.w3.org/2000/svg\" height=\"24px\"viewBox=\"0 0 24 24\"\n",
              "       width=\"24px\">\n",
              "    <path d=\"M0 0h24v24H0V0z\" fill=\"none\"/>\n",
              "    <path d=\"M18.56 5.44l.94 2.06.94-2.06 2.06-.94-2.06-.94-.94-2.06-.94 2.06-2.06.94zm-11 1L8.5 8.5l.94-2.06 2.06-.94-2.06-.94L8.5 2.5l-.94 2.06-2.06.94zm10 10l.94 2.06.94-2.06 2.06-.94-2.06-.94-.94-2.06-.94 2.06-2.06.94z\"/><path d=\"M17.41 7.96l-1.37-1.37c-.4-.4-.92-.59-1.43-.59-.52 0-1.04.2-1.43.59L10.3 9.45l-7.72 7.72c-.78.78-.78 2.05 0 2.83L4 21.41c.39.39.9.59 1.41.59.51 0 1.02-.2 1.41-.59l7.78-7.78 2.81-2.81c.8-.78.8-2.07 0-2.86zM5.41 20L4 18.59l7.72-7.72 1.47 1.35L5.41 20z\"/>\n",
              "  </svg>\n",
              "      </button>\n",
              "      \n",
              "  <style>\n",
              "    .colab-df-container {\n",
              "      display:flex;\n",
              "      flex-wrap:wrap;\n",
              "      gap: 12px;\n",
              "    }\n",
              "\n",
              "    .colab-df-convert {\n",
              "      background-color: #E8F0FE;\n",
              "      border: none;\n",
              "      border-radius: 50%;\n",
              "      cursor: pointer;\n",
              "      display: none;\n",
              "      fill: #1967D2;\n",
              "      height: 32px;\n",
              "      padding: 0 0 0 0;\n",
              "      width: 32px;\n",
              "    }\n",
              "\n",
              "    .colab-df-convert:hover {\n",
              "      background-color: #E2EBFA;\n",
              "      box-shadow: 0px 1px 2px rgba(60, 64, 67, 0.3), 0px 1px 3px 1px rgba(60, 64, 67, 0.15);\n",
              "      fill: #174EA6;\n",
              "    }\n",
              "\n",
              "    [theme=dark] .colab-df-convert {\n",
              "      background-color: #3B4455;\n",
              "      fill: #D2E3FC;\n",
              "    }\n",
              "\n",
              "    [theme=dark] .colab-df-convert:hover {\n",
              "      background-color: #434B5C;\n",
              "      box-shadow: 0px 1px 3px 1px rgba(0, 0, 0, 0.15);\n",
              "      filter: drop-shadow(0px 1px 2px rgba(0, 0, 0, 0.3));\n",
              "      fill: #FFFFFF;\n",
              "    }\n",
              "  </style>\n",
              "\n",
              "      <script>\n",
              "        const buttonEl =\n",
              "          document.querySelector('#df-3d79791a-760b-4aac-a1ec-40d27d2ced31 button.colab-df-convert');\n",
              "        buttonEl.style.display =\n",
              "          google.colab.kernel.accessAllowed ? 'block' : 'none';\n",
              "\n",
              "        async function convertToInteractive(key) {\n",
              "          const element = document.querySelector('#df-3d79791a-760b-4aac-a1ec-40d27d2ced31');\n",
              "          const dataTable =\n",
              "            await google.colab.kernel.invokeFunction('convertToInteractive',\n",
              "                                                     [key], {});\n",
              "          if (!dataTable) return;\n",
              "\n",
              "          const docLinkHtml = 'Like what you see? Visit the ' +\n",
              "            '<a target=\"_blank\" href=https://colab.research.google.com/notebooks/data_table.ipynb>data table notebook</a>'\n",
              "            + ' to learn more about interactive tables.';\n",
              "          element.innerHTML = '';\n",
              "          dataTable['output_type'] = 'display_data';\n",
              "          await google.colab.output.renderOutput(dataTable, element);\n",
              "          const docLink = document.createElement('div');\n",
              "          docLink.innerHTML = docLinkHtml;\n",
              "          element.appendChild(docLink);\n",
              "        }\n",
              "      </script>\n",
              "    </div>\n",
              "  </div>\n",
              "  "
            ]
          },
          "metadata": {},
          "execution_count": 5
        }
      ],
      "source": [
        "lines.B = lines.B.apply(lambda x : '\\t '+ str(x) + ' \\n')\n",
        "lines.sample(10)"
      ]
    },
    {
      "cell_type": "code",
      "execution_count": 6,
      "metadata": {
        "id": "p5VyYPo3iedy"
      },
      "outputs": [],
      "source": [
        "# 글자 집합 구축\n",
        "src_vocab=set()\n",
        "for l in lines.A: # 1줄씩 읽음\n",
        "  for char in str(l): # 1개의 글자씩 읽음\n",
        "    src_vocab.add(char)\n",
        "\n",
        "tar_vocab=set()\n",
        "for l in lines.B:\n",
        "  for char in l:\n",
        "     tar_vocab.add(char)"
      ]
    },
    {
      "cell_type": "code",
      "execution_count": 7,
      "metadata": {
        "colab": {
          "base_uri": "https://localhost:8080/"
        },
        "id": "zfg9pOB7ifgK",
        "outputId": "72eb45c5-7ebb-4a31-c0cd-b39ed3555167"
      },
      "outputs": [
        {
          "output_type": "stream",
          "name": "stdout",
          "text": [
            "1684\n",
            "1687\n"
          ]
        }
      ],
      "source": [
        "src_vocab_size = len(src_vocab)+1\n",
        "tar_vocab_size = len(tar_vocab)+1\n",
        "print(src_vocab_size)\n",
        "print(tar_vocab_size)"
      ]
    },
    {
      "cell_type": "code",
      "execution_count": 8,
      "metadata": {
        "id": "pJJolPvRignC"
      },
      "outputs": [],
      "source": [
        "src_vocab = sorted(list(src_vocab))\n",
        "tar_vocab = sorted(list(tar_vocab))"
      ]
    },
    {
      "cell_type": "code",
      "execution_count": 9,
      "metadata": {
        "id": "WQusbB6GiiH7"
      },
      "outputs": [],
      "source": [
        "src_to_index = dict([(word, i+1) for i, word in enumerate(src_vocab)])\n",
        "tar_to_index = dict([(word, i+1) for i, word in enumerate(tar_vocab)])"
      ]
    },
    {
      "cell_type": "code",
      "execution_count": 10,
      "metadata": {
        "colab": {
          "base_uri": "https://localhost:8080/"
        },
        "id": "OeHzq5rNijWS",
        "outputId": "362f16b9-168d-4c23-b3a0-b56b3ef09947"
      },
      "outputs": [
        {
          "output_type": "stream",
          "name": "stdout",
          "text": [
            "[[2, 1053, 2, 1624], [2, 314, 2, 846], [2, 621, 2, 1152], [2, 720, 1128, 2, 903], [2, 828, 2, 1128]]\n"
          ]
        }
      ],
      "source": [
        "encoder_input = []\n",
        "for line in lines.A: #입력 데이터에서 1줄씩 문장을 읽음\n",
        "    temp_X = []\n",
        "    for w in str(line): #각 줄에서 1개씩 글자를 읽음\n",
        "      temp_X.append(src_to_index[w]) # 글자를 해당되는 정수로 변환\n",
        "    encoder_input.append(temp_X)\n",
        "print(encoder_input[:5])"
      ]
    },
    {
      "cell_type": "code",
      "execution_count": 11,
      "metadata": {
        "colab": {
          "base_uri": "https://localhost:8080/"
        },
        "id": "5MFjg8quikj6",
        "outputId": "961b0348-a6a2-4d4c-f96c-797f527971c4"
      },
      "outputs": [
        {
          "output_type": "stream",
          "name": "stdout",
          "text": [
            "[[1, 3, 5, 5, 1056, 1627, 3, 2], [1, 3, 5, 5, 317, 849, 3, 2], [1, 3, 5, 5, 624, 1155, 3, 2], [1, 3, 5, 5, 723, 1131, 906, 3, 2], [1, 3, 5, 5, 831, 1131, 3, 2]]\n"
          ]
        }
      ],
      "source": [
        "decoder_input = []\n",
        "for line in lines.B:\n",
        "    temp_X = []\n",
        "    for w in line:\n",
        "      temp_X.append(tar_to_index[w])\n",
        "    decoder_input.append(temp_X)\n",
        "print(decoder_input[:5])"
      ]
    },
    {
      "cell_type": "code",
      "execution_count": 12,
      "metadata": {
        "colab": {
          "base_uri": "https://localhost:8080/"
        },
        "id": "-6RS186uilqK",
        "outputId": "772d2ab1-fae4-46cd-dae4-764290f7966e"
      },
      "outputs": [
        {
          "output_type": "stream",
          "name": "stdout",
          "text": [
            "[[3, 5, 5, 1056, 1627, 3, 2], [3, 5, 5, 317, 849, 3, 2], [3, 5, 5, 624, 1155, 3, 2], [3, 5, 5, 723, 1131, 906, 3, 2], [3, 5, 5, 831, 1131, 3, 2]]\n"
          ]
        }
      ],
      "source": [
        "decoder_target = []\n",
        "for line in lines.B:\n",
        "    t=0\n",
        "    temp_X = []\n",
        "    for w in line:\n",
        "      if t>0:\n",
        "        temp_X.append(tar_to_index[w])\n",
        "      t=t+1\n",
        "    decoder_target.append(temp_X)\n",
        "print(decoder_target[:5])"
      ]
    },
    {
      "cell_type": "code",
      "execution_count": 13,
      "metadata": {
        "id": "1Zlq71juimoy"
      },
      "outputs": [],
      "source": [
        "max_src_len = max([len(line) for line in lines.A])\n",
        "max_tar_len = max([len(line) for line in lines.B])\n",
        "#print(max_src_len)\n",
        "#print(max_tar_len)\n",
        "\n",
        "lenlineA = []\n",
        "lenlineB = []\n",
        "\n",
        "for line in lines.A:\n",
        "  lenlineA.append(len(str(line)))\n",
        "\n",
        "for line in lines.B:\n",
        "  lenlineB.append(len(str(line)))"
      ]
    },
    {
      "cell_type": "code",
      "execution_count": 14,
      "metadata": {
        "id": "FcnFgd9Zinsa"
      },
      "outputs": [],
      "source": [
        "encoder_input = pad_sequences(encoder_input, maxlen=max_src_len, padding='post')\n",
        "decoder_input = pad_sequences(decoder_input, maxlen=max_tar_len, padding='post')\n",
        "decoder_target = pad_sequences(decoder_target, maxlen=max_tar_len, padding='post')"
      ]
    },
    {
      "cell_type": "code",
      "execution_count": 15,
      "metadata": {
        "id": "EcXSOrECio3C"
      },
      "outputs": [],
      "source": [
        "encoder_input = to_categorical(encoder_input)\n",
        "decoder_input = to_categorical(decoder_input)\n",
        "decoder_target = to_categorical(decoder_target)"
      ]
    },
    {
      "cell_type": "code",
      "execution_count": 16,
      "metadata": {
        "id": "0GqUpQ_Rippq"
      },
      "outputs": [],
      "source": [
        "from tensorflow.keras.layers import Input, LSTM, Embedding, Dense\n",
        "from tensorflow.keras.models import Model\n",
        "import numpy as np"
      ]
    },
    {
      "cell_type": "code",
      "execution_count": 17,
      "metadata": {
        "id": "C9blN5WziqtS"
      },
      "outputs": [],
      "source": [
        "encoder_inputs = Input(shape=(None, src_vocab_size))\n",
        "encoder_lstm = LSTM(units=256, return_state=True)\n",
        "encoder_outputs, state_h, state_c = encoder_lstm(encoder_inputs)\n",
        "# encoder_outputs도 같이 리턴받기는 했지만 여기서는 필요없으므로 이 값은 버림.\n",
        "encoder_states = [state_h, state_c]\n",
        "# LSTM은 바닐라 RNN과는 달리 상태가 두 개. 바로 은닉 상태와 셀 상태."
      ]
    },
    {
      "cell_type": "code",
      "execution_count": 18,
      "metadata": {
        "id": "keZfw7g2irvK"
      },
      "outputs": [],
      "source": [
        "decoder_inputs = Input(shape=(None, tar_vocab_size))\n",
        "decoder_lstm = LSTM(units=256, return_sequences=True, return_state=True)\n",
        "decoder_outputs, _, _= decoder_lstm(decoder_inputs, initial_state=encoder_states)\n",
        "# 디코더의 첫 상태를 인코더의 은닉 상태, 셀 상태로 합니다.\n",
        "decoder_softmax_layer = Dense(tar_vocab_size, activation='softmax')\n",
        "decoder_outputs = decoder_softmax_layer(decoder_outputs)\n",
        "\n",
        "model = Model([encoder_inputs, decoder_inputs], decoder_outputs)\n",
        "model.compile(optimizer=\"rmsprop\", loss=\"categorical_crossentropy\")"
      ]
    },
    {
      "cell_type": "code",
      "execution_count": 19,
      "metadata": {
        "colab": {
          "base_uri": "https://localhost:8080/"
        },
        "id": "q82rA2Ixisor",
        "outputId": "e6d27bea-507f-4f98-9a5a-5f23ded2ace5"
      },
      "outputs": [
        {
          "output_type": "stream",
          "name": "stdout",
          "text": [
            "Epoch 1/50\n",
            "125/125 [==============================] - 16s 71ms/step - loss: 3.4512 - val_loss: 3.2377\n",
            "Epoch 2/50\n",
            "125/125 [==============================] - 6s 46ms/step - loss: 2.9029 - val_loss: 3.2235\n",
            "Epoch 3/50\n",
            "125/125 [==============================] - 6s 46ms/step - loss: 2.7597 - val_loss: 3.1019\n",
            "Epoch 4/50\n",
            "125/125 [==============================] - 6s 45ms/step - loss: 2.5287 - val_loss: 2.8684\n",
            "Epoch 5/50\n",
            "125/125 [==============================] - 6s 46ms/step - loss: 2.2744 - val_loss: 2.6291\n",
            "Epoch 6/50\n",
            "125/125 [==============================] - 6s 46ms/step - loss: 2.0071 - val_loss: 2.3753\n",
            "Epoch 7/50\n",
            "125/125 [==============================] - 6s 46ms/step - loss: 1.6766 - val_loss: 2.0785\n",
            "Epoch 8/50\n",
            "125/125 [==============================] - 6s 45ms/step - loss: 1.3346 - val_loss: 1.8026\n",
            "Epoch 9/50\n",
            "125/125 [==============================] - 6s 45ms/step - loss: 1.0399 - val_loss: 1.8098\n",
            "Epoch 10/50\n",
            "125/125 [==============================] - 6s 46ms/step - loss: 0.7995 - val_loss: 1.3920\n",
            "Epoch 11/50\n",
            "125/125 [==============================] - 6s 45ms/step - loss: 0.6196 - val_loss: 1.2356\n",
            "Epoch 12/50\n",
            "125/125 [==============================] - 6s 45ms/step - loss: 0.4915 - val_loss: 1.1187\n",
            "Epoch 13/50\n",
            "125/125 [==============================] - 6s 45ms/step - loss: 0.3944 - val_loss: 1.0290\n",
            "Epoch 14/50\n",
            "125/125 [==============================] - 6s 46ms/step - loss: 0.3244 - val_loss: 1.0069\n",
            "Epoch 15/50\n",
            "125/125 [==============================] - 6s 45ms/step - loss: 0.2653 - val_loss: 0.9412\n",
            "Epoch 16/50\n",
            "125/125 [==============================] - 6s 45ms/step - loss: 0.2162 - val_loss: 0.8827\n",
            "Epoch 17/50\n",
            "125/125 [==============================] - 6s 46ms/step - loss: 0.1807 - val_loss: 0.8438\n",
            "Epoch 18/50\n",
            "125/125 [==============================] - 6s 45ms/step - loss: 0.1509 - val_loss: 0.7829\n",
            "Epoch 19/50\n",
            "125/125 [==============================] - 6s 46ms/step - loss: 0.1265 - val_loss: 0.7611\n",
            "Epoch 20/50\n",
            "125/125 [==============================] - 6s 45ms/step - loss: 0.1071 - val_loss: 0.7259\n",
            "Epoch 21/50\n",
            "125/125 [==============================] - 6s 46ms/step - loss: 0.0912 - val_loss: 0.7250\n",
            "Epoch 22/50\n",
            "125/125 [==============================] - 6s 45ms/step - loss: 0.0791 - val_loss: 0.6893\n",
            "Epoch 23/50\n",
            "125/125 [==============================] - 6s 46ms/step - loss: 0.0673 - val_loss: 0.6568\n",
            "Epoch 24/50\n",
            "125/125 [==============================] - 6s 46ms/step - loss: 0.0576 - val_loss: 0.6864\n",
            "Epoch 25/50\n",
            "125/125 [==============================] - 6s 45ms/step - loss: 0.0493 - val_loss: 0.6314\n",
            "Epoch 26/50\n",
            "125/125 [==============================] - 6s 45ms/step - loss: 0.0424 - val_loss: 0.6351\n",
            "Epoch 27/50\n",
            "125/125 [==============================] - 6s 45ms/step - loss: 0.0364 - val_loss: 0.6292\n",
            "Epoch 28/50\n",
            "125/125 [==============================] - 6s 45ms/step - loss: 0.0310 - val_loss: 0.6436\n",
            "Epoch 29/50\n",
            "125/125 [==============================] - 6s 45ms/step - loss: 0.0266 - val_loss: 0.6239\n",
            "Epoch 30/50\n",
            "125/125 [==============================] - 6s 46ms/step - loss: 0.0230 - val_loss: 0.6082\n",
            "Epoch 31/50\n",
            "125/125 [==============================] - 6s 45ms/step - loss: 0.0195 - val_loss: 0.6249\n",
            "Epoch 32/50\n",
            "125/125 [==============================] - 6s 45ms/step - loss: 0.0171 - val_loss: 0.6007\n",
            "Epoch 33/50\n",
            "125/125 [==============================] - 6s 45ms/step - loss: 0.0145 - val_loss: 0.5931\n",
            "Epoch 34/50\n",
            "125/125 [==============================] - 6s 45ms/step - loss: 0.0125 - val_loss: 0.5823\n",
            "Epoch 35/50\n",
            "125/125 [==============================] - 6s 45ms/step - loss: 0.0107 - val_loss: 0.5697\n",
            "Epoch 36/50\n",
            "125/125 [==============================] - 6s 46ms/step - loss: 0.0095 - val_loss: 0.5651\n",
            "Epoch 37/50\n",
            "125/125 [==============================] - 6s 45ms/step - loss: 0.0080 - val_loss: 0.5731\n",
            "Epoch 38/50\n",
            "125/125 [==============================] - 6s 45ms/step - loss: 0.0070 - val_loss: 0.5834\n",
            "Epoch 39/50\n",
            "125/125 [==============================] - 6s 46ms/step - loss: 0.0063 - val_loss: 0.5699\n",
            "Epoch 40/50\n",
            "125/125 [==============================] - 6s 46ms/step - loss: 0.0055 - val_loss: 0.5902\n",
            "Epoch 41/50\n",
            "125/125 [==============================] - 6s 46ms/step - loss: 0.0049 - val_loss: 0.5735\n",
            "Epoch 42/50\n",
            "125/125 [==============================] - 6s 46ms/step - loss: 0.0043 - val_loss: 0.5779\n",
            "Epoch 43/50\n",
            "125/125 [==============================] - 6s 46ms/step - loss: 0.0038 - val_loss: 0.5721\n",
            "Epoch 44/50\n",
            "125/125 [==============================] - 6s 46ms/step - loss: 0.0035 - val_loss: 0.5925\n",
            "Epoch 45/50\n",
            "125/125 [==============================] - 6s 45ms/step - loss: 0.0033 - val_loss: 0.6075\n",
            "Epoch 46/50\n",
            "125/125 [==============================] - 6s 45ms/step - loss: 0.0030 - val_loss: 0.5818\n",
            "Epoch 47/50\n",
            "125/125 [==============================] - 6s 45ms/step - loss: 0.0027 - val_loss: 0.5825\n",
            "Epoch 48/50\n",
            "125/125 [==============================] - 6s 46ms/step - loss: 0.0023 - val_loss: 0.5865\n",
            "Epoch 49/50\n",
            "125/125 [==============================] - 6s 46ms/step - loss: 0.0020 - val_loss: 0.6258\n",
            "Epoch 50/50\n",
            "125/125 [==============================] - 6s 45ms/step - loss: 0.0020 - val_loss: 0.5897\n"
          ]
        },
        {
          "output_type": "execute_result",
          "data": {
            "text/plain": [
              "<keras.callbacks.History at 0x7f853f296b50>"
            ]
          },
          "metadata": {},
          "execution_count": 19
        }
      ],
      "source": [
        "model.fit(x=[encoder_input, decoder_input], y=decoder_target, batch_size=512, epochs=50, validation_split=0.2)"
      ]
    },
    {
      "cell_type": "code",
      "execution_count": 20,
      "metadata": {
        "id": "PvAzKE5divNi"
      },
      "outputs": [],
      "source": [
        "encoder_model = Model(inputs=encoder_inputs, outputs=encoder_states)"
      ]
    },
    {
      "cell_type": "code",
      "execution_count": 21,
      "metadata": {
        "colab": {
          "base_uri": "https://localhost:8080/"
        },
        "id": "OssDkukziwpK",
        "outputId": "2b6c9e25-ec3e-4f1b-d6d4-fe28c1eb3a41"
      },
      "outputs": [
        {
          "output_type": "stream",
          "name": "stdout",
          "text": [
            "Model: \"model_1\"\n",
            "_________________________________________________________________\n",
            " Layer (type)                Output Shape              Param #   \n",
            "=================================================================\n",
            " input_1 (InputLayer)        [(None, None, 1684)]      0         \n",
            "                                                                 \n",
            " lstm (LSTM)                 [(None, 256),             1987584   \n",
            "                              (None, 256),                       \n",
            "                              (None, 256)]                       \n",
            "                                                                 \n",
            "=================================================================\n",
            "Total params: 1,987,584\n",
            "Trainable params: 1,987,584\n",
            "Non-trainable params: 0\n",
            "_________________________________________________________________\n"
          ]
        }
      ],
      "source": [
        "encoder_model.summary()"
      ]
    },
    {
      "cell_type": "code",
      "execution_count": 22,
      "metadata": {
        "id": "rnBYHCbOizSi"
      },
      "outputs": [],
      "source": [
        "# 이전 시점의 상태들을 저장하는 텐서\n",
        "decoder_state_input_h = Input(shape=(256,))\n",
        "decoder_state_input_c = Input(shape=(256,))\n",
        "decoder_states_inputs = [decoder_state_input_h, decoder_state_input_c]\n",
        "decoder_outputs, state_h, state_c = decoder_lstm(decoder_inputs, initial_state=decoder_states_inputs)\n",
        "# 문장의 다음 단어를 예측하기 위해서 초기 상태(initial_state)를 이전 시점의 상태로 사용. 이는 뒤의 함수 decode_sequence()에 구현\n",
        "decoder_states = [state_h, state_c]\n",
        "# 훈련 과정에서와 달리 LSTM의 리턴하는 은닉 상태와 셀 상태인 state_h와 state_c를 버리지 않음.\n",
        "decoder_outputs = decoder_softmax_layer(decoder_outputs)\n",
        "decoder_model = Model(inputs=[decoder_inputs] + decoder_states_inputs, outputs=[decoder_outputs] + decoder_states)"
      ]
    },
    {
      "cell_type": "code",
      "execution_count": 23,
      "metadata": {
        "id": "tYMVxO_MgT-6"
      },
      "outputs": [],
      "source": [
        "index_to_src = dict((i, char) for char, i in src_to_index.items())\n",
        "index_to_tar = dict((i, char) for char, i in tar_to_index.items())"
      ]
    },
    {
      "cell_type": "code",
      "execution_count": 24,
      "metadata": {
        "id": "w9WAlasJgVbK"
      },
      "outputs": [],
      "source": [
        "def decode_sequence(input_seq):\n",
        "    # 입력으로부터 인코더의 상태를 얻음\n",
        "    states_value = encoder_model.predict(input_seq)\n",
        "\n",
        "    # <SOS>에 해당하는 원-핫 벡터 생성\n",
        "    target_seq = np.zeros((1, 1, tar_vocab_size))\n",
        "    target_seq[0, 0, tar_to_index['\\t']] = 1\n",
        "\n",
        "    stop_condition = False\n",
        "    decoded_sentence = \"\"\n",
        "\n",
        "    # stop_condition이 True가 될 때까지 루프 반복\n",
        "    while not stop_condition:\n",
        "        # 이점 시점의 상태 states_value를 현 시점의 초기 상태로 사용\n",
        "        # output_tokens, h, c = decoder_model.predict([target_seq] + states_value)\n",
        "        \n",
        "        datalist = decoder_model.predict([target_seq] + states_value)\n",
        "        output_tokens = datalist[0]\n",
        "        h = datalist[1]\n",
        "        c = datalist[2]\n",
        "\n",
        "        # 예측 결과를 문자로 변환\n",
        "        sampled_token_index = np.argmax(output_tokens[0, -1, :])\n",
        "        sampled_char = index_to_tar[sampled_token_index + 1]\n",
        "\n",
        "        # 현재 시점의 예측 문자를 예측 문장에 추가\n",
        "        decoded_sentence += sampled_char\n",
        "\n",
        "        # <eos>에 도달하거나 최대 길이를 넘으면 중단.\n",
        "        if (sampled_char == '\\n' or len(decoded_sentence) > max_tar_len):\n",
        "            stop_condition = True\n",
        "\n",
        "        # 현재 시점의 예측 결과를 다음 시점의 입력으로 사용하기 위해 저장\n",
        "        target_seq = np.zeros((1, 1, tar_vocab_size))\n",
        "        target_seq[0, 0, sampled_token_index] = 1\n",
        "\n",
        "        # 현재 시점의 상태를 다음 시점의 상태로 사용하기 위해 저장\n",
        "        states_value = [h, c]\n",
        "\n",
        "    return decoded_sentence"
      ]
    },
    {
      "cell_type": "code",
      "execution_count": 25,
      "metadata": {
        "colab": {
          "base_uri": "https://localhost:8080/"
        },
        "id": "iGLAMcZSgWaq",
        "outputId": "2c827298-de11-43d1-de71-8673c03ee424"
      },
      "outputs": [
        {
          "output_type": "stream",
          "name": "stdout",
          "text": [
            "-----------------------------------\n",
            "입력 문장: 가대가소\n",
            "정답 문장:  가가대소 \n",
            "번역기가 번역한 문장: 각각댁속\n",
            "-----------------------------------\n",
            "입력 문장: 가문가전\n",
            "정답 문장:  가가문전 \n",
            "번역기가 번역한 문장: 각각묻절\n",
            "-----------------------------------\n",
            "입력 문장: 가붓자가식\n",
            "정답 문장:  가가붓자식 \n",
            "번역기가 번역한 문장: 각각붕작신\n",
            "-----------------------------------\n",
            "입력 문장: 가역감관\n",
            "정답 문장:  가감역관 \n",
            "번역기가 번역한 문장: 각갑엮괄\n"
          ]
        }
      ],
      "source": [
        "for seq_index in [1,2,3,10]: # 입력 문장의 인덱스\n",
        "    input_seq = encoder_input[seq_index : seq_index + 1]\n",
        "    decoded_sentence = decode_sequence(input_seq)\n",
        "    decoded_sentence = decoded_sentence.replace(\"ㅅ\", \"\")\n",
        "    decoded_sentence = decoded_sentence.replace(\"\\t\", \"\")\n",
        "    print(35 * \"-\")\n",
        "    print('입력 문장:', lines.A[seq_index])\n",
        "    print('정답 문장:', lines.B[seq_index][1:len(lines.B[seq_index])-1]) # '\\t'와 '\\n'을 빼고 출력\n",
        "    print('번역기가 번역한 문장:', decoded_sentence[:len(decoded_sentence)-1]) # '\\n'을 빼고 출력"
      ]
    }
  ],
  "metadata": {
    "accelerator": "GPU",
    "colab": {
      "collapsed_sections": [],
      "machine_shape": "hm",
      "name": "탐논 코드",
      "provenance": [],
      "include_colab_link": true
    },
    "kernelspec": {
      "display_name": "Python 3",
      "name": "python3"
    }
  },
  "nbformat": 4,
  "nbformat_minor": 0
}