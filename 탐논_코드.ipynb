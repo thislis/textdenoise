{
  "cells": [
    {
      "cell_type": "markdown",
      "metadata": {
        "id": "view-in-github",
        "colab_type": "text"
      },
      "source": [
        "<a href=\"https://colab.research.google.com/github/thislis/textdenoise/blob/main/%ED%83%90%EB%85%BC_%EC%BD%94%EB%93%9C.ipynb\" target=\"_parent\"><img src=\"https://colab.research.google.com/assets/colab-badge.svg\" alt=\"Open In Colab\"/></a>"
      ]
    },
    {
      "cell_type": "markdown",
      "metadata": {
        "id": "uoEgIOcFhccg"
      },
      "source": [
        "링크 : https://wikidocs.net/24996"
      ]
    },
    {
      "cell_type": "code",
      "execution_count": 37,
      "metadata": {
        "id": "IfN4gZMKh0yc"
      },
      "outputs": [],
      "source": [
        "import pandas as pd\n",
        "import shutil\n",
        "import os\n",
        "import tensorflow as tf\n",
        "from tensorflow.keras.preprocessing.sequence import pad_sequences\n",
        "from tensorflow.keras.utils import to_categorical"
      ]
    },
    {
      "cell_type": "code",
      "execution_count": 38,
      "metadata": {
        "colab": {
          "base_uri": "https://localhost:8080/"
        },
        "id": "n7DHF2L34txu",
        "outputId": "b46cf05e-afce-43fd-8a74-d881770a71b9"
      },
      "outputs": [
        {
          "output_type": "stream",
          "name": "stdout",
          "text": [
            "Drive already mounted at /content/drive; to attempt to forcibly remount, call drive.mount(\"/content/drive\", force_remount=True).\n"
          ]
        }
      ],
      "source": [
        "from google.colab import drive\n",
        "drive.mount('/content/drive')"
      ]
    },
    {
      "cell_type": "code",
      "execution_count": 39,
      "metadata": {
        "colab": {
          "base_uri": "https://localhost:8080/"
        },
        "id": "sdt-athJibxC",
        "outputId": "f886c8fd-a3f0-499a-cd47-84d038256e35"
      },
      "outputs": [
        {
          "output_type": "stream",
          "name": "stdout",
          "text": [
            "           A      B\n",
            "0       가와가현   가가와현\n",
            "1       가대가소   가가대소\n",
            "2       가문가전   가가문전\n",
            "3      가붓자가식  가가붓자식\n",
            "4       가성가자   가가성자\n",
            "...      ...    ...\n",
            "81390   힘이받천   힘받이천\n",
            "81391   힘이받침   힘받이침\n",
            "81392   힘잇받감   힘받잇감\n",
            "81393   힝항뚱뚱   힝뚱항뚱\n",
            "81394   힝힝뚱뚱   힝뚱힝뚱\n",
            "\n",
            "[81395 rows x 2 columns]\n"
          ]
        }
      ],
      "source": [
        "lines = pd.read_csv('/content/drive/MyDrive/단어만 8만개.csv', names=['A', 'B'], sep=',')\n",
        "print(lines)"
      ]
    },
    {
      "cell_type": "code",
      "execution_count": 40,
      "metadata": {
        "colab": {
          "base_uri": "https://localhost:8080/",
          "height": 363
        },
        "id": "OJWHLXyricub",
        "outputId": "393ac6a8-1dba-41d8-aba8-311a5254c115"
      },
      "outputs": [
        {
          "output_type": "execute_result",
          "data": {
            "text/html": [
              "\n",
              "  <div id=\"df-38c89703-a31b-4b5e-8dcb-8067d022a0f4\">\n",
              "    <div class=\"colab-df-container\">\n",
              "      <div>\n",
              "<style scoped>\n",
              "    .dataframe tbody tr th:only-of-type {\n",
              "        vertical-align: middle;\n",
              "    }\n",
              "\n",
              "    .dataframe tbody tr th {\n",
              "        vertical-align: top;\n",
              "    }\n",
              "\n",
              "    .dataframe thead th {\n",
              "        text-align: right;\n",
              "    }\n",
              "</style>\n",
              "<table border=\"1\" class=\"dataframe\">\n",
              "  <thead>\n",
              "    <tr style=\"text-align: right;\">\n",
              "      <th></th>\n",
              "      <th>A</th>\n",
              "      <th>B</th>\n",
              "    </tr>\n",
              "  </thead>\n",
              "  <tbody>\n",
              "    <tr>\n",
              "      <th>57818</th>\n",
              "      <td>육견단양</td>\n",
              "      <td>육단견양</td>\n",
              "    </tr>\n",
              "    <tr>\n",
              "      <th>8752</th>\n",
              "      <td>궁전절진</td>\n",
              "      <td>궁절전진</td>\n",
              "    </tr>\n",
              "    <tr>\n",
              "      <th>20524</th>\n",
              "      <td>뒤마리머디</td>\n",
              "      <td>뒤머리마디</td>\n",
              "    </tr>\n",
              "    <tr>\n",
              "      <th>27715</th>\n",
              "      <td>무용산화해</td>\n",
              "      <td>무산화용해</td>\n",
              "    </tr>\n",
              "    <tr>\n",
              "      <th>53356</th>\n",
              "      <td>영주리의</td>\n",
              "      <td>영리주의</td>\n",
              "    </tr>\n",
              "    <tr>\n",
              "      <th>73470</th>\n",
              "      <td>태태자보</td>\n",
              "      <td>태자태보</td>\n",
              "    </tr>\n",
              "    <tr>\n",
              "      <th>48771</th>\n",
              "      <td>안사거마</td>\n",
              "      <td>안거사마</td>\n",
              "    </tr>\n",
              "    <tr>\n",
              "      <th>79321</th>\n",
              "      <td>호기흡병</td>\n",
              "      <td>호흡기병</td>\n",
              "    </tr>\n",
              "    <tr>\n",
              "      <th>79562</th>\n",
              "      <td>홍연문가</td>\n",
              "      <td>홍문연가</td>\n",
              "    </tr>\n",
              "    <tr>\n",
              "      <th>41322</th>\n",
              "      <td>석풀류과</td>\n",
              "      <td>석류풀과</td>\n",
              "    </tr>\n",
              "  </tbody>\n",
              "</table>\n",
              "</div>\n",
              "      <button class=\"colab-df-convert\" onclick=\"convertToInteractive('df-38c89703-a31b-4b5e-8dcb-8067d022a0f4')\"\n",
              "              title=\"Convert this dataframe to an interactive table.\"\n",
              "              style=\"display:none;\">\n",
              "        \n",
              "  <svg xmlns=\"http://www.w3.org/2000/svg\" height=\"24px\"viewBox=\"0 0 24 24\"\n",
              "       width=\"24px\">\n",
              "    <path d=\"M0 0h24v24H0V0z\" fill=\"none\"/>\n",
              "    <path d=\"M18.56 5.44l.94 2.06.94-2.06 2.06-.94-2.06-.94-.94-2.06-.94 2.06-2.06.94zm-11 1L8.5 8.5l.94-2.06 2.06-.94-2.06-.94L8.5 2.5l-.94 2.06-2.06.94zm10 10l.94 2.06.94-2.06 2.06-.94-2.06-.94-.94-2.06-.94 2.06-2.06.94z\"/><path d=\"M17.41 7.96l-1.37-1.37c-.4-.4-.92-.59-1.43-.59-.52 0-1.04.2-1.43.59L10.3 9.45l-7.72 7.72c-.78.78-.78 2.05 0 2.83L4 21.41c.39.39.9.59 1.41.59.51 0 1.02-.2 1.41-.59l7.78-7.78 2.81-2.81c.8-.78.8-2.07 0-2.86zM5.41 20L4 18.59l7.72-7.72 1.47 1.35L5.41 20z\"/>\n",
              "  </svg>\n",
              "      </button>\n",
              "      \n",
              "  <style>\n",
              "    .colab-df-container {\n",
              "      display:flex;\n",
              "      flex-wrap:wrap;\n",
              "      gap: 12px;\n",
              "    }\n",
              "\n",
              "    .colab-df-convert {\n",
              "      background-color: #E8F0FE;\n",
              "      border: none;\n",
              "      border-radius: 50%;\n",
              "      cursor: pointer;\n",
              "      display: none;\n",
              "      fill: #1967D2;\n",
              "      height: 32px;\n",
              "      padding: 0 0 0 0;\n",
              "      width: 32px;\n",
              "    }\n",
              "\n",
              "    .colab-df-convert:hover {\n",
              "      background-color: #E2EBFA;\n",
              "      box-shadow: 0px 1px 2px rgba(60, 64, 67, 0.3), 0px 1px 3px 1px rgba(60, 64, 67, 0.15);\n",
              "      fill: #174EA6;\n",
              "    }\n",
              "\n",
              "    [theme=dark] .colab-df-convert {\n",
              "      background-color: #3B4455;\n",
              "      fill: #D2E3FC;\n",
              "    }\n",
              "\n",
              "    [theme=dark] .colab-df-convert:hover {\n",
              "      background-color: #434B5C;\n",
              "      box-shadow: 0px 1px 3px 1px rgba(0, 0, 0, 0.15);\n",
              "      filter: drop-shadow(0px 1px 2px rgba(0, 0, 0, 0.3));\n",
              "      fill: #FFFFFF;\n",
              "    }\n",
              "  </style>\n",
              "\n",
              "      <script>\n",
              "        const buttonEl =\n",
              "          document.querySelector('#df-38c89703-a31b-4b5e-8dcb-8067d022a0f4 button.colab-df-convert');\n",
              "        buttonEl.style.display =\n",
              "          google.colab.kernel.accessAllowed ? 'block' : 'none';\n",
              "\n",
              "        async function convertToInteractive(key) {\n",
              "          const element = document.querySelector('#df-38c89703-a31b-4b5e-8dcb-8067d022a0f4');\n",
              "          const dataTable =\n",
              "            await google.colab.kernel.invokeFunction('convertToInteractive',\n",
              "                                                     [key], {});\n",
              "          if (!dataTable) return;\n",
              "\n",
              "          const docLinkHtml = 'Like what you see? Visit the ' +\n",
              "            '<a target=\"_blank\" href=https://colab.research.google.com/notebooks/data_table.ipynb>data table notebook</a>'\n",
              "            + ' to learn more about interactive tables.';\n",
              "          element.innerHTML = '';\n",
              "          dataTable['output_type'] = 'display_data';\n",
              "          await google.colab.output.renderOutput(dataTable, element);\n",
              "          const docLink = document.createElement('div');\n",
              "          docLink.innerHTML = docLinkHtml;\n",
              "          element.appendChild(docLink);\n",
              "        }\n",
              "      </script>\n",
              "    </div>\n",
              "  </div>\n",
              "  "
            ],
            "text/plain": [
              "           A      B\n",
              "57818   육견단양   육단견양\n",
              "8752    궁전절진   궁절전진\n",
              "20524  뒤마리머디  뒤머리마디\n",
              "27715  무용산화해  무산화용해\n",
              "53356   영주리의   영리주의\n",
              "73470   태태자보   태자태보\n",
              "48771   안사거마   안거사마\n",
              "79321   호기흡병   호흡기병\n",
              "79562   홍연문가   홍문연가\n",
              "41322   석풀류과   석류풀과"
            ]
          },
          "metadata": {},
          "execution_count": 40
        }
      ],
      "source": [
        "lines = lines.loc[:, 'A':'B']\n",
        "lines = lines[0:80000]\n",
        "lines.sample(10)"
      ]
    },
    {
      "cell_type": "code",
      "execution_count": 41,
      "metadata": {
        "colab": {
          "base_uri": "https://localhost:8080/",
          "height": 363
        },
        "id": "HC80PHpgidj6",
        "outputId": "5a77c579-acc5-4703-ae98-eb893d2e7030"
      },
      "outputs": [
        {
          "output_type": "execute_result",
          "data": {
            "text/html": [
              "\n",
              "  <div id=\"df-eba2d49d-31d5-4a40-83f4-514d84e4b723\">\n",
              "    <div class=\"colab-df-container\">\n",
              "      <div>\n",
              "<style scoped>\n",
              "    .dataframe tbody tr th:only-of-type {\n",
              "        vertical-align: middle;\n",
              "    }\n",
              "\n",
              "    .dataframe tbody tr th {\n",
              "        vertical-align: top;\n",
              "    }\n",
              "\n",
              "    .dataframe thead th {\n",
              "        text-align: right;\n",
              "    }\n",
              "</style>\n",
              "<table border=\"1\" class=\"dataframe\">\n",
              "  <thead>\n",
              "    <tr style=\"text-align: right;\">\n",
              "      <th></th>\n",
              "      <th>A</th>\n",
              "      <th>B</th>\n",
              "    </tr>\n",
              "  </thead>\n",
              "  <tbody>\n",
              "    <tr>\n",
              "      <th>9717</th>\n",
              "      <td>금제비강꽃</td>\n",
              "      <td>\\t 금강제비꽃 \\n</td>\n",
              "    </tr>\n",
              "    <tr>\n",
              "      <th>79361</th>\n",
              "      <td>혼부불신</td>\n",
              "      <td>\\t 혼불부신 \\n</td>\n",
              "    </tr>\n",
              "    <tr>\n",
              "      <th>79649</th>\n",
              "      <td>홑름이수</td>\n",
              "      <td>\\t 홑이름수 \\n</td>\n",
              "    </tr>\n",
              "    <tr>\n",
              "      <th>28237</th>\n",
              "      <td>문겸무전</td>\n",
              "      <td>\\t 문무겸전 \\n</td>\n",
              "    </tr>\n",
              "    <tr>\n",
              "      <th>54389</th>\n",
              "      <td>오주머줌니</td>\n",
              "      <td>\\t 오줌주머니 \\n</td>\n",
              "    </tr>\n",
              "    <tr>\n",
              "      <th>48750</th>\n",
              "      <td>안낙가업</td>\n",
              "      <td>\\t 안가낙업 \\n</td>\n",
              "    </tr>\n",
              "    <tr>\n",
              "      <th>79469</th>\n",
              "      <td>홀름이씨</td>\n",
              "      <td>\\t 홀이름씨 \\n</td>\n",
              "    </tr>\n",
              "    <tr>\n",
              "      <th>21365</th>\n",
              "      <td>땅뎅구이</td>\n",
              "      <td>\\t 땅구뎅이 \\n</td>\n",
              "    </tr>\n",
              "    <tr>\n",
              "      <th>64590</th>\n",
              "      <td>조버개섯</td>\n",
              "      <td>\\t 조개버섯 \\n</td>\n",
              "    </tr>\n",
              "    <tr>\n",
              "      <th>26295</th>\n",
              "      <td>명천성자</td>\n",
              "      <td>\\t 명성천자 \\n</td>\n",
              "    </tr>\n",
              "  </tbody>\n",
              "</table>\n",
              "</div>\n",
              "      <button class=\"colab-df-convert\" onclick=\"convertToInteractive('df-eba2d49d-31d5-4a40-83f4-514d84e4b723')\"\n",
              "              title=\"Convert this dataframe to an interactive table.\"\n",
              "              style=\"display:none;\">\n",
              "        \n",
              "  <svg xmlns=\"http://www.w3.org/2000/svg\" height=\"24px\"viewBox=\"0 0 24 24\"\n",
              "       width=\"24px\">\n",
              "    <path d=\"M0 0h24v24H0V0z\" fill=\"none\"/>\n",
              "    <path d=\"M18.56 5.44l.94 2.06.94-2.06 2.06-.94-2.06-.94-.94-2.06-.94 2.06-2.06.94zm-11 1L8.5 8.5l.94-2.06 2.06-.94-2.06-.94L8.5 2.5l-.94 2.06-2.06.94zm10 10l.94 2.06.94-2.06 2.06-.94-2.06-.94-.94-2.06-.94 2.06-2.06.94z\"/><path d=\"M17.41 7.96l-1.37-1.37c-.4-.4-.92-.59-1.43-.59-.52 0-1.04.2-1.43.59L10.3 9.45l-7.72 7.72c-.78.78-.78 2.05 0 2.83L4 21.41c.39.39.9.59 1.41.59.51 0 1.02-.2 1.41-.59l7.78-7.78 2.81-2.81c.8-.78.8-2.07 0-2.86zM5.41 20L4 18.59l7.72-7.72 1.47 1.35L5.41 20z\"/>\n",
              "  </svg>\n",
              "      </button>\n",
              "      \n",
              "  <style>\n",
              "    .colab-df-container {\n",
              "      display:flex;\n",
              "      flex-wrap:wrap;\n",
              "      gap: 12px;\n",
              "    }\n",
              "\n",
              "    .colab-df-convert {\n",
              "      background-color: #E8F0FE;\n",
              "      border: none;\n",
              "      border-radius: 50%;\n",
              "      cursor: pointer;\n",
              "      display: none;\n",
              "      fill: #1967D2;\n",
              "      height: 32px;\n",
              "      padding: 0 0 0 0;\n",
              "      width: 32px;\n",
              "    }\n",
              "\n",
              "    .colab-df-convert:hover {\n",
              "      background-color: #E2EBFA;\n",
              "      box-shadow: 0px 1px 2px rgba(60, 64, 67, 0.3), 0px 1px 3px 1px rgba(60, 64, 67, 0.15);\n",
              "      fill: #174EA6;\n",
              "    }\n",
              "\n",
              "    [theme=dark] .colab-df-convert {\n",
              "      background-color: #3B4455;\n",
              "      fill: #D2E3FC;\n",
              "    }\n",
              "\n",
              "    [theme=dark] .colab-df-convert:hover {\n",
              "      background-color: #434B5C;\n",
              "      box-shadow: 0px 1px 3px 1px rgba(0, 0, 0, 0.15);\n",
              "      filter: drop-shadow(0px 1px 2px rgba(0, 0, 0, 0.3));\n",
              "      fill: #FFFFFF;\n",
              "    }\n",
              "  </style>\n",
              "\n",
              "      <script>\n",
              "        const buttonEl =\n",
              "          document.querySelector('#df-eba2d49d-31d5-4a40-83f4-514d84e4b723 button.colab-df-convert');\n",
              "        buttonEl.style.display =\n",
              "          google.colab.kernel.accessAllowed ? 'block' : 'none';\n",
              "\n",
              "        async function convertToInteractive(key) {\n",
              "          const element = document.querySelector('#df-eba2d49d-31d5-4a40-83f4-514d84e4b723');\n",
              "          const dataTable =\n",
              "            await google.colab.kernel.invokeFunction('convertToInteractive',\n",
              "                                                     [key], {});\n",
              "          if (!dataTable) return;\n",
              "\n",
              "          const docLinkHtml = 'Like what you see? Visit the ' +\n",
              "            '<a target=\"_blank\" href=https://colab.research.google.com/notebooks/data_table.ipynb>data table notebook</a>'\n",
              "            + ' to learn more about interactive tables.';\n",
              "          element.innerHTML = '';\n",
              "          dataTable['output_type'] = 'display_data';\n",
              "          await google.colab.output.renderOutput(dataTable, element);\n",
              "          const docLink = document.createElement('div');\n",
              "          docLink.innerHTML = docLinkHtml;\n",
              "          element.appendChild(docLink);\n",
              "        }\n",
              "      </script>\n",
              "    </div>\n",
              "  </div>\n",
              "  "
            ],
            "text/plain": [
              "           A            B\n",
              "9717   금제비강꽃  \\t 금강제비꽃 \\n\n",
              "79361   혼부불신   \\t 혼불부신 \\n\n",
              "79649   홑름이수   \\t 홑이름수 \\n\n",
              "28237   문겸무전   \\t 문무겸전 \\n\n",
              "54389  오주머줌니  \\t 오줌주머니 \\n\n",
              "48750   안낙가업   \\t 안가낙업 \\n\n",
              "79469   홀름이씨   \\t 홀이름씨 \\n\n",
              "21365   땅뎅구이   \\t 땅구뎅이 \\n\n",
              "64590   조버개섯   \\t 조개버섯 \\n\n",
              "26295   명천성자   \\t 명성천자 \\n"
            ]
          },
          "metadata": {},
          "execution_count": 41
        }
      ],
      "source": [
        "lines.B = lines.B.apply(lambda x : '\\t '+ str(x) + ' \\n')\n",
        "lines.sample(10)"
      ]
    },
    {
      "cell_type": "code",
      "execution_count": 42,
      "metadata": {
        "id": "p5VyYPo3iedy"
      },
      "outputs": [],
      "source": [
        "# 글자 집합 구축\n",
        "src_vocab=set()\n",
        "for l in lines.A: # 1줄씩 읽음\n",
        "  for char in str(l): # 1개의 글자씩 읽음\n",
        "    src_vocab.add(char)\n",
        "\n",
        "tar_vocab=set()\n",
        "for l in lines.B:\n",
        "  for char in l:\n",
        "     tar_vocab.add(char)"
      ]
    },
    {
      "cell_type": "code",
      "execution_count": 43,
      "metadata": {
        "colab": {
          "base_uri": "https://localhost:8080/"
        },
        "id": "zfg9pOB7ifgK",
        "outputId": "2c86f0ce-3875-413d-d59d-b07ede66df0d"
      },
      "outputs": [
        {
          "output_type": "stream",
          "name": "stdout",
          "text": [
            "1684\n",
            "1687\n"
          ]
        }
      ],
      "source": [
        "src_vocab_size = len(src_vocab)+1\n",
        "tar_vocab_size = len(tar_vocab)+1\n",
        "print(src_vocab_size)\n",
        "print(tar_vocab_size)"
      ]
    },
    {
      "cell_type": "code",
      "execution_count": 44,
      "metadata": {
        "id": "pJJolPvRignC"
      },
      "outputs": [],
      "source": [
        "src_vocab = sorted(list(src_vocab))\n",
        "tar_vocab = sorted(list(tar_vocab))"
      ]
    },
    {
      "cell_type": "code",
      "execution_count": 45,
      "metadata": {
        "id": "WQusbB6GiiH7"
      },
      "outputs": [],
      "source": [
        "src_to_index = dict([(word, i+1) for i, word in enumerate(src_vocab)])\n",
        "tar_to_index = dict([(word, i+1) for i, word in enumerate(tar_vocab)])"
      ]
    },
    {
      "cell_type": "code",
      "execution_count": 46,
      "metadata": {
        "colab": {
          "base_uri": "https://localhost:8080/"
        },
        "id": "OeHzq5rNijWS",
        "outputId": "20ccb4d0-f205-4421-a49d-f71c490eccb1"
      },
      "outputs": [
        {
          "output_type": "stream",
          "name": "stdout",
          "text": [
            "[[2, 1053, 2, 1624], [2, 314, 2, 846], [2, 621, 2, 1152], [2, 720, 1128, 2, 903], [2, 828, 2, 1128]]\n"
          ]
        }
      ],
      "source": [
        "encoder_input = []\n",
        "for line in lines.A: #입력 데이터에서 1줄씩 문장을 읽음\n",
        "    temp_X = []\n",
        "    for w in str(line): #각 줄에서 1개씩 글자를 읽음\n",
        "      temp_X.append(src_to_index[w]) # 글자를 해당되는 정수로 변환\n",
        "    encoder_input.append(temp_X)\n",
        "print(encoder_input[:5])"
      ]
    },
    {
      "cell_type": "code",
      "execution_count": 47,
      "metadata": {
        "colab": {
          "base_uri": "https://localhost:8080/"
        },
        "id": "5MFjg8quikj6",
        "outputId": "036dacb7-10d4-437e-f354-29c4da6cbfb0"
      },
      "outputs": [
        {
          "output_type": "stream",
          "name": "stdout",
          "text": [
            "[[1, 3, 5, 5, 1056, 1627, 3, 2], [1, 3, 5, 5, 317, 849, 3, 2], [1, 3, 5, 5, 624, 1155, 3, 2], [1, 3, 5, 5, 723, 1131, 906, 3, 2], [1, 3, 5, 5, 831, 1131, 3, 2]]\n"
          ]
        }
      ],
      "source": [
        "decoder_input = []\n",
        "for line in lines.B:\n",
        "    temp_X = []\n",
        "    for w in line:\n",
        "      temp_X.append(tar_to_index[w])\n",
        "    decoder_input.append(temp_X)\n",
        "print(decoder_input[:5])"
      ]
    },
    {
      "cell_type": "code",
      "execution_count": 48,
      "metadata": {
        "colab": {
          "base_uri": "https://localhost:8080/"
        },
        "id": "-6RS186uilqK",
        "outputId": "f259a04f-e01a-4e79-ad9a-4864ab055813"
      },
      "outputs": [
        {
          "output_type": "stream",
          "name": "stdout",
          "text": [
            "[[3, 5, 5, 1056, 1627, 3, 2], [3, 5, 5, 317, 849, 3, 2], [3, 5, 5, 624, 1155, 3, 2], [3, 5, 5, 723, 1131, 906, 3, 2], [3, 5, 5, 831, 1131, 3, 2]]\n"
          ]
        }
      ],
      "source": [
        "decoder_target = []\n",
        "for line in lines.B:\n",
        "    t=0\n",
        "    temp_X = []\n",
        "    for w in line:\n",
        "      if t>0:\n",
        "        temp_X.append(tar_to_index[w])\n",
        "      t=t+1\n",
        "    decoder_target.append(temp_X)\n",
        "print(decoder_target[:5])"
      ]
    },
    {
      "cell_type": "code",
      "execution_count": 49,
      "metadata": {
        "id": "1Zlq71juimoy"
      },
      "outputs": [],
      "source": [
        "max_src_len = max([len(line) for line in lines.A])\n",
        "max_tar_len = max([len(line) for line in lines.B])\n",
        "#print(max_src_len)\n",
        "#print(max_tar_len)\n",
        "\n",
        "lenlineA = []\n",
        "lenlineB = []\n",
        "\n",
        "for line in lines.A:\n",
        "  lenlineA.append(len(str(line)))\n",
        "\n",
        "for line in lines.B:\n",
        "  lenlineB.append(len(str(line)))"
      ]
    },
    {
      "cell_type": "code",
      "execution_count": 50,
      "metadata": {
        "id": "FcnFgd9Zinsa"
      },
      "outputs": [],
      "source": [
        "encoder_input = pad_sequences(encoder_input, maxlen=max_src_len, padding='post')\n",
        "decoder_input = pad_sequences(decoder_input, maxlen=max_tar_len, padding='post')\n",
        "decoder_target = pad_sequences(decoder_target, maxlen=max_tar_len, padding='post')"
      ]
    },
    {
      "cell_type": "code",
      "execution_count": 51,
      "metadata": {
        "id": "EcXSOrECio3C"
      },
      "outputs": [],
      "source": [
        "encoder_input = to_categorical(encoder_input)\n",
        "decoder_input = to_categorical(decoder_input)\n",
        "decoder_target = to_categorical(decoder_target)"
      ]
    },
    {
      "cell_type": "code",
      "execution_count": 52,
      "metadata": {
        "id": "0GqUpQ_Rippq"
      },
      "outputs": [],
      "source": [
        "from tensorflow.keras.layers import Input, LSTM, Embedding, Dense\n",
        "from tensorflow.keras.models import Model\n",
        "import numpy as np"
      ]
    },
    {
      "cell_type": "code",
      "execution_count": 53,
      "metadata": {
        "id": "C9blN5WziqtS"
      },
      "outputs": [],
      "source": [
        "encoder_inputs = Input(shape=(None, src_vocab_size))\n",
        "encoder_lstm = LSTM(units=256, return_state=True)\n",
        "encoder_outputs, state_h, state_c = encoder_lstm(encoder_inputs)\n",
        "# encoder_outputs도 같이 리턴받기는 했지만 여기서는 필요없으므로 이 값은 버림.\n",
        "encoder_states = [state_h, state_c]\n",
        "# LSTM은 바닐라 RNN과는 달리 상태가 두 개. 바로 은닉 상태와 셀 상태."
      ]
    },
    {
      "cell_type": "code",
      "execution_count": 54,
      "metadata": {
        "id": "keZfw7g2irvK"
      },
      "outputs": [],
      "source": [
        "decoder_inputs = Input(shape=(None, tar_vocab_size))\n",
        "decoder_lstm = LSTM(units=256, return_sequences=True, return_state=True)\n",
        "decoder_outputs, _, _= decoder_lstm(decoder_inputs, initial_state=encoder_states)\n",
        "# 디코더의 첫 상태를 인코더의 은닉 상태, 셀 상태로 합니다.\n",
        "decoder_softmax_layer = Dense(tar_vocab_size, activation='softmax')\n",
        "decoder_outputs = decoder_softmax_layer(decoder_outputs)\n",
        "\n",
        "model = Model([encoder_inputs, decoder_inputs], decoder_outputs)\n",
        "model.compile(optimizer=\"rmsprop\", loss=\"categorical_crossentropy\")"
      ]
    },
    {
      "cell_type": "code",
      "execution_count": 55,
      "metadata": {
        "colab": {
          "base_uri": "https://localhost:8080/"
        },
        "id": "q82rA2Ixisor",
        "outputId": "c0c8b1ec-8f47-48fe-9226-10e65a9e5620"
      },
      "outputs": [
        {
          "output_type": "stream",
          "name": "stdout",
          "text": [
            "Epoch 1/50\n",
            "500/500 [==============================] - 11s 18ms/step - loss: 2.9726 - val_loss: 3.1255\n",
            "Epoch 2/50\n",
            "500/500 [==============================] - 7s 14ms/step - loss: 2.1851 - val_loss: 2.2158\n",
            "Epoch 3/50\n",
            "500/500 [==============================] - 7s 14ms/step - loss: 1.3138 - val_loss: 1.5713\n",
            "Epoch 4/50\n",
            "500/500 [==============================] - 7s 14ms/step - loss: 0.7446 - val_loss: 1.1501\n",
            "Epoch 5/50\n",
            "500/500 [==============================] - 7s 14ms/step - loss: 0.4720 - val_loss: 0.9306\n",
            "Epoch 6/50\n",
            "500/500 [==============================] - 7s 14ms/step - loss: 0.3248 - val_loss: 0.7832\n",
            "Epoch 7/50\n",
            "500/500 [==============================] - 7s 14ms/step - loss: 0.2361 - val_loss: 0.6649\n",
            "Epoch 8/50\n",
            "500/500 [==============================] - 7s 14ms/step - loss: 0.1804 - val_loss: 0.6025\n",
            "Epoch 9/50\n",
            "500/500 [==============================] - 7s 15ms/step - loss: 0.1440 - val_loss: 0.5523\n",
            "Epoch 10/50\n",
            "500/500 [==============================] - 7s 14ms/step - loss: 0.1170 - val_loss: 0.5117\n",
            "Epoch 11/50\n",
            "500/500 [==============================] - 7s 14ms/step - loss: 0.0973 - val_loss: 0.5013\n",
            "Epoch 12/50\n",
            "500/500 [==============================] - 7s 14ms/step - loss: 0.0825 - val_loss: 0.4731\n",
            "Epoch 13/50\n",
            "500/500 [==============================] - 7s 14ms/step - loss: 0.0700 - val_loss: 0.4537\n",
            "Epoch 14/50\n",
            "500/500 [==============================] - 7s 14ms/step - loss: 0.0602 - val_loss: 0.4454\n",
            "Epoch 15/50\n",
            "500/500 [==============================] - 7s 14ms/step - loss: 0.0528 - val_loss: 0.4323\n",
            "Epoch 16/50\n",
            "500/500 [==============================] - 7s 14ms/step - loss: 0.0465 - val_loss: 0.4302\n",
            "Epoch 17/50\n",
            "500/500 [==============================] - 7s 14ms/step - loss: 0.0405 - val_loss: 0.4181\n",
            "Epoch 18/50\n",
            "500/500 [==============================] - 7s 14ms/step - loss: 0.0362 - val_loss: 0.4189\n",
            "Epoch 19/50\n",
            "500/500 [==============================] - 7s 14ms/step - loss: 0.0326 - val_loss: 0.4096\n",
            "Epoch 20/50\n",
            "500/500 [==============================] - 7s 14ms/step - loss: 0.0297 - val_loss: 0.4125\n",
            "Epoch 21/50\n",
            "500/500 [==============================] - 7s 14ms/step - loss: 0.0268 - val_loss: 0.4043\n",
            "Epoch 22/50\n",
            "500/500 [==============================] - 7s 14ms/step - loss: 0.0243 - val_loss: 0.4063\n",
            "Epoch 23/50\n",
            "500/500 [==============================] - 7s 14ms/step - loss: 0.0219 - val_loss: 0.4004\n",
            "Epoch 24/50\n",
            "500/500 [==============================] - 7s 14ms/step - loss: 0.0203 - val_loss: 0.3891\n",
            "Epoch 25/50\n",
            "500/500 [==============================] - 7s 14ms/step - loss: 0.0188 - val_loss: 0.3958\n",
            "Epoch 26/50\n",
            "500/500 [==============================] - 7s 14ms/step - loss: 0.0176 - val_loss: 0.3934\n",
            "Epoch 27/50\n",
            "500/500 [==============================] - 7s 14ms/step - loss: 0.0163 - val_loss: 0.3920\n",
            "Epoch 28/50\n",
            "500/500 [==============================] - 7s 14ms/step - loss: 0.0152 - val_loss: 0.3966\n",
            "Epoch 29/50\n",
            "500/500 [==============================] - 7s 14ms/step - loss: 0.0140 - val_loss: 0.3942\n",
            "Epoch 30/50\n",
            "500/500 [==============================] - 7s 14ms/step - loss: 0.0131 - val_loss: 0.3905\n",
            "Epoch 31/50\n",
            "500/500 [==============================] - 7s 14ms/step - loss: 0.0121 - val_loss: 0.3783\n",
            "Epoch 32/50\n",
            "500/500 [==============================] - 7s 14ms/step - loss: 0.0114 - val_loss: 0.3879\n",
            "Epoch 33/50\n",
            "500/500 [==============================] - 7s 14ms/step - loss: 0.0107 - val_loss: 0.3781\n",
            "Epoch 34/50\n",
            "500/500 [==============================] - 7s 14ms/step - loss: 0.0097 - val_loss: 0.3925\n",
            "Epoch 35/50\n",
            "500/500 [==============================] - 7s 14ms/step - loss: 0.0092 - val_loss: 0.3735\n",
            "Epoch 36/50\n",
            "500/500 [==============================] - 7s 14ms/step - loss: 0.0086 - val_loss: 0.3785\n",
            "Epoch 37/50\n",
            "500/500 [==============================] - 7s 14ms/step - loss: 0.0082 - val_loss: 0.3801\n",
            "Epoch 38/50\n",
            "500/500 [==============================] - 7s 14ms/step - loss: 0.0076 - val_loss: 0.3792\n",
            "Epoch 39/50\n",
            "500/500 [==============================] - 7s 14ms/step - loss: 0.0071 - val_loss: 0.3729\n",
            "Epoch 40/50\n",
            "500/500 [==============================] - 7s 14ms/step - loss: 0.0067 - val_loss: 0.3810\n",
            "Epoch 41/50\n",
            "500/500 [==============================] - 7s 14ms/step - loss: 0.0064 - val_loss: 0.3749\n",
            "Epoch 42/50\n",
            "500/500 [==============================] - 7s 14ms/step - loss: 0.0060 - val_loss: 0.3781\n",
            "Epoch 43/50\n",
            "500/500 [==============================] - 7s 14ms/step - loss: 0.0056 - val_loss: 0.3708\n",
            "Epoch 44/50\n",
            "500/500 [==============================] - 7s 14ms/step - loss: 0.0053 - val_loss: 0.3716\n",
            "Epoch 45/50\n",
            "500/500 [==============================] - 7s 14ms/step - loss: 0.0050 - val_loss: 0.3695\n",
            "Epoch 46/50\n",
            "500/500 [==============================] - 7s 14ms/step - loss: 0.0048 - val_loss: 0.3755\n",
            "Epoch 47/50\n",
            "500/500 [==============================] - 7s 14ms/step - loss: 0.0044 - val_loss: 0.3762\n",
            "Epoch 48/50\n",
            "500/500 [==============================] - 7s 14ms/step - loss: 0.0041 - val_loss: 0.3618\n",
            "Epoch 49/50\n",
            "500/500 [==============================] - 7s 14ms/step - loss: 0.0038 - val_loss: 0.3728\n",
            "Epoch 50/50\n",
            "500/500 [==============================] - 7s 14ms/step - loss: 0.0037 - val_loss: 0.3730\n"
          ]
        },
        {
          "output_type": "execute_result",
          "data": {
            "text/plain": [
              "<keras.callbacks.History at 0x7f39cb504390>"
            ]
          },
          "metadata": {},
          "execution_count": 55
        }
      ],
      "source": [
        "model.fit(x=[encoder_input, decoder_input], y=decoder_target, batch_size=128, epochs=50, validation_split=0.2)"
      ]
    },
    {
      "cell_type": "code",
      "execution_count": 56,
      "metadata": {
        "id": "PvAzKE5divNi"
      },
      "outputs": [],
      "source": [
        "encoder_model = Model(inputs=encoder_inputs, outputs=encoder_states)"
      ]
    },
    {
      "cell_type": "code",
      "execution_count": 57,
      "metadata": {
        "colab": {
          "base_uri": "https://localhost:8080/"
        },
        "id": "OssDkukziwpK",
        "outputId": "987c9f42-9961-4778-bc7a-eb547a87bd68"
      },
      "outputs": [
        {
          "output_type": "stream",
          "name": "stdout",
          "text": [
            "Model: \"model_4\"\n",
            "_________________________________________________________________\n",
            " Layer (type)                Output Shape              Param #   \n",
            "=================================================================\n",
            " input_5 (InputLayer)        [(None, None, 1684)]      0         \n",
            "                                                                 \n",
            " lstm_2 (LSTM)               [(None, 256),             1987584   \n",
            "                              (None, 256),                       \n",
            "                              (None, 256)]                       \n",
            "                                                                 \n",
            "=================================================================\n",
            "Total params: 1,987,584\n",
            "Trainable params: 1,987,584\n",
            "Non-trainable params: 0\n",
            "_________________________________________________________________\n"
          ]
        }
      ],
      "source": [
        "encoder_model.summary()"
      ]
    },
    {
      "cell_type": "code",
      "execution_count": 58,
      "metadata": {
        "id": "rnBYHCbOizSi"
      },
      "outputs": [],
      "source": [
        "# 이전 시점의 상태들을 저장하는 텐서\n",
        "decoder_state_input_h = Input(shape=(256,))\n",
        "decoder_state_input_c = Input(shape=(256,))\n",
        "decoder_states_inputs = [decoder_state_input_h, decoder_state_input_c]\n",
        "decoder_outputs, state_h, state_c = decoder_lstm(decoder_inputs, initial_state=decoder_states_inputs)\n",
        "# 문장의 다음 단어를 예측하기 위해서 초기 상태(initial_state)를 이전 시점의 상태로 사용. 이는 뒤의 함수 decode_sequence()에 구현\n",
        "decoder_states = [state_h, state_c]\n",
        "# 훈련 과정에서와 달리 LSTM의 리턴하는 은닉 상태와 셀 상태인 state_h와 state_c를 버리지 않음.\n",
        "decoder_outputs = decoder_softmax_layer(decoder_outputs)\n",
        "decoder_model = Model(inputs=[decoder_inputs] + decoder_states_inputs, outputs=[decoder_outputs] + decoder_states)"
      ]
    },
    {
      "cell_type": "code",
      "execution_count": 59,
      "metadata": {
        "id": "tYMVxO_MgT-6"
      },
      "outputs": [],
      "source": [
        "index_to_src = dict((i, char) for char, i in src_to_index.items())\n",
        "index_to_tar = dict((i, char) for char, i in tar_to_index.items())"
      ]
    },
    {
      "cell_type": "code",
      "execution_count": 60,
      "metadata": {
        "id": "w9WAlasJgVbK"
      },
      "outputs": [],
      "source": [
        "def decode_sequence(input_seq):\n",
        "    # 입력으로부터 인코더의 상태를 얻음\n",
        "    states_value = encoder_model.predict(input_seq)\n",
        "\n",
        "    # <SOS>에 해당하는 원-핫 벡터 생성\n",
        "    target_seq = np.zeros((1, 1, tar_vocab_size))\n",
        "    target_seq[0, 0, tar_to_index['\\t']] = 1\n",
        "\n",
        "    stop_condition = False\n",
        "    decoded_sentence = \"\"\n",
        "\n",
        "    # stop_condition이 True가 될 때까지 루프 반복\n",
        "    while not stop_condition:\n",
        "        # 이점 시점의 상태 states_value를 현 시점의 초기 상태로 사용\n",
        "        # output_tokens, h, c = decoder_model.predict([target_seq] + states_value)\n",
        "        \n",
        "        datalist = decoder_model.predict([target_seq] + states_value)\n",
        "        output_tokens = datalist[0]\n",
        "        h = datalist[1]\n",
        "        c = datalist[2]\n",
        "\n",
        "        # 예측 결과를 문자로 변환\n",
        "        sampled_token_index = np.argmax(output_tokens[0, -1, :])\n",
        "        sampled_char = index_to_tar[sampled_token_index + 1]\n",
        "\n",
        "        # 현재 시점의 예측 문자를 예측 문장에 추가\n",
        "        decoded_sentence += sampled_char\n",
        "\n",
        "        # <eos>에 도달하거나 최대 길이를 넘으면 중단.\n",
        "        if (sampled_char == '\\n' or len(decoded_sentence) > max_tar_len):\n",
        "            stop_condition = True\n",
        "\n",
        "        # 현재 시점의 예측 결과를 다음 시점의 입력으로 사용하기 위해 저장\n",
        "        target_seq = np.zeros((1, 1, tar_vocab_size))\n",
        "        target_seq[0, 0, sampled_token_index] = 1\n",
        "\n",
        "        # 현재 시점의 상태를 다음 시점의 상태로 사용하기 위해 저장\n",
        "        states_value = [h, c]\n",
        "\n",
        "    return decoded_sentence"
      ]
    },
    {
      "cell_type": "code",
      "execution_count": 61,
      "metadata": {
        "colab": {
          "base_uri": "https://localhost:8080/"
        },
        "id": "iGLAMcZSgWaq",
        "outputId": "ee6da489-6c29-4fe1-9990-ce02d60d61c2"
      },
      "outputs": [
        {
          "output_type": "stream",
          "name": "stdout",
          "text": [
            "-----------------------------------\n",
            "입력 문장: 가대가소\n",
            "정답 문장:  가가대소 \n",
            "번역기가 번역한 문장: 각각댁속\n",
            "-----------------------------------\n",
            "입력 문장: 가문가전\n",
            "정답 문장:  가가문전 \n",
            "번역기가 번역한 문장: 각각묻절\n",
            "-----------------------------------\n",
            "입력 문장: 가붓자가식\n",
            "정답 문장:  가가붓자식 \n",
            "번역기가 번역한 문장: 각각붕작신\n",
            "-----------------------------------\n",
            "입력 문장: 가역감관\n",
            "정답 문장:  가감역관 \n",
            "번역기가 번역한 문장: 각갑엮괄\n"
          ]
        }
      ],
      "source": [
        "for seq_index in [1,2,3,10]: # 입력 문장의 인덱스\n",
        "    input_seq = encoder_input[seq_index : seq_index + 1]\n",
        "    decoded_sentence = decode_sequence(input_seq)\n",
        "    decoded_sentence = decoded_sentence.replace(\"ㅅ\", \"\")\n",
        "    decoded_sentence = decoded_sentence.replace(\"\\t\", \"\")\n",
        "    print(35 * \"-\")\n",
        "    print('입력 문장:', lines.A[seq_index])\n",
        "    print('정답 문장:', lines.B[seq_index][1:len(lines.B[seq_index])-1]) # '\\t'와 '\\n'을 빼고 출력\n",
        "    print('번역기가 번역한 문장:', decoded_sentence[:len(decoded_sentence)-1]) # '\\n'을 빼고 출력"
      ]
    }
  ],
  "metadata": {
    "accelerator": "GPU",
    "colab": {
      "collapsed_sections": [],
      "machine_shape": "hm",
      "name": "탐논 코드",
      "provenance": [],
      "include_colab_link": true
    },
    "kernelspec": {
      "display_name": "Python 3",
      "name": "python3"
    }
  },
  "nbformat": 4,
  "nbformat_minor": 0
}
